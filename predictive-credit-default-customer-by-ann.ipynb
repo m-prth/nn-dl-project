{
 "cells": [
  {
   "cell_type": "markdown",
   "metadata": {
    "papermill": {
     "duration": 0.023881,
     "end_time": "2020-11-16T03:02:35.951179",
     "exception": false,
     "start_time": "2020-11-16T03:02:35.927298",
     "status": "completed"
    },
    "tags": []
   },
   "source": [
    "# Import Libraries"
   ]
  },
  {
   "cell_type": "code",
   "execution_count": 2,
   "metadata": {
    "_cell_guid": "b1076dfc-b9ad-4769-8c92-a6c4dae69d19",
    "_uuid": "8f2839f25d086af736a60e9eeb907d3b93b6e0e5",
    "execution": {
     "iopub.execute_input": "2020-11-16T03:02:36.001227Z",
     "iopub.status.busy": "2020-11-16T03:02:36.000388Z",
     "iopub.status.idle": "2020-11-16T03:02:43.612142Z",
     "shell.execute_reply": "2020-11-16T03:02:43.611330Z"
    },
    "papermill": {
     "duration": 7.639791,
     "end_time": "2020-11-16T03:02:43.612275",
     "exception": false,
     "start_time": "2020-11-16T03:02:35.972484",
     "status": "completed"
    },
    "tags": []
   },
   "outputs": [],
   "source": [
    "import pandas as pd\n",
    "import matplotlib.pyplot as plt\n",
    "import seaborn as sns\n",
    "from sklearn.model_selection import train_test_split\n",
    "from sklearn.preprocessing import StandardScaler\n",
    "from tensorflow.keras.initializers import glorot_uniform\n",
    "# import keras\n",
    "from tensorflow.keras.models import Sequential\n",
    "from tensorflow.keras.layers import Dense\n",
    "from sklearn.metrics import confusion_matrix\n",
    "from tensorflow.keras.callbacks import EarlyStopping"
   ]
  },
  {
   "cell_type": "markdown",
   "metadata": {
    "papermill": {
     "duration": 0.02059,
     "end_time": "2020-11-16T03:02:43.654277",
     "exception": false,
     "start_time": "2020-11-16T03:02:43.633687",
     "status": "completed"
    },
    "tags": []
   },
   "source": [
    "# Background\n",
    "\n",
    "_Credit default_ can defined as the failure to repay a debt including interest or principal on a loan or security on the due date.This can cause losses for lenders so that preventive measures is a must, in which early detection for potential default can be one of those. This case study can be categorized as the binary classification.\n",
    "\n",
    "Artifical Neural Network (ANN) is one of models for classification problems, having the ability to capture the linier and also the non-linear model trends from data so that it can give predictions for the new data (having the same distributions).\n",
    "\n",
    "In jupyter notebook, the effectiveness of ANN model will be tried to classify the _credit default customer_ and hope that it can reach 95% accuracy."
   ]
  },
  {
   "cell_type": "markdown",
   "metadata": {},
   "source": []
  },
  {
   "cell_type": "markdown",
   "metadata": {
    "papermill": {
     "duration": 0.020449,
     "end_time": "2020-11-16T03:02:43.695724",
     "exception": false,
     "start_time": "2020-11-16T03:02:43.675275",
     "status": "completed"
    },
    "tags": []
   },
   "source": [
    "# Data Understanding\n",
    "\n",
    "The data used in this task is a public dataset from UCI Machine Learning entitled \"Default of Credit Card Clients Dataset\" containing information on default payments, demographic factors, credit data, history of payment, and bill statements of credit card clients in Taiwan from April 2005 to September 2005. \n",
    "\n",
    "This dataset contains 30,000 data observations with 25 variables consisting of 1 ID, 23 predictor variables, and 1 response variable as the default payment next month.\n",
    "\n",
    "Here are some samples of the data."
   ]
  },
  {
   "cell_type": "code",
   "execution_count": 3,
   "metadata": {
    "_cell_guid": "79c7e3d0-c299-4dcb-8224-4455121ee9b0",
    "_uuid": "d629ff2d2480ee46fbb7e2d37f6b5fab8052498a",
    "execution": {
     "iopub.execute_input": "2020-11-16T03:02:43.746831Z",
     "iopub.status.busy": "2020-11-16T03:02:43.746090Z",
     "iopub.status.idle": "2020-11-16T03:02:43.916737Z",
     "shell.execute_reply": "2020-11-16T03:02:43.916088Z"
    },
    "papermill": {
     "duration": 0.199534,
     "end_time": "2020-11-16T03:02:43.916864",
     "exception": false,
     "start_time": "2020-11-16T03:02:43.717330",
     "status": "completed"
    },
    "tags": []
   },
   "outputs": [
    {
     "data": {
      "text/html": [
       "<div>\n",
       "<style scoped>\n",
       "    .dataframe tbody tr th:only-of-type {\n",
       "        vertical-align: middle;\n",
       "    }\n",
       "\n",
       "    .dataframe tbody tr th {\n",
       "        vertical-align: top;\n",
       "    }\n",
       "\n",
       "    .dataframe thead th {\n",
       "        text-align: right;\n",
       "    }\n",
       "</style>\n",
       "<table border=\"1\" class=\"dataframe\">\n",
       "  <thead>\n",
       "    <tr style=\"text-align: right;\">\n",
       "      <th></th>\n",
       "      <th>ID</th>\n",
       "      <th>LIMIT_BAL</th>\n",
       "      <th>SEX</th>\n",
       "      <th>EDUCATION</th>\n",
       "      <th>MARRIAGE</th>\n",
       "      <th>AGE</th>\n",
       "      <th>PAY_0</th>\n",
       "      <th>PAY_2</th>\n",
       "      <th>PAY_3</th>\n",
       "      <th>PAY_4</th>\n",
       "      <th>...</th>\n",
       "      <th>BILL_AMT4</th>\n",
       "      <th>BILL_AMT5</th>\n",
       "      <th>BILL_AMT6</th>\n",
       "      <th>PAY_AMT1</th>\n",
       "      <th>PAY_AMT2</th>\n",
       "      <th>PAY_AMT3</th>\n",
       "      <th>PAY_AMT4</th>\n",
       "      <th>PAY_AMT5</th>\n",
       "      <th>PAY_AMT6</th>\n",
       "      <th>default.payment.next.month</th>\n",
       "    </tr>\n",
       "  </thead>\n",
       "  <tbody>\n",
       "    <tr>\n",
       "      <th>0</th>\n",
       "      <td>1</td>\n",
       "      <td>20000.0</td>\n",
       "      <td>2</td>\n",
       "      <td>2</td>\n",
       "      <td>1</td>\n",
       "      <td>24</td>\n",
       "      <td>2</td>\n",
       "      <td>2</td>\n",
       "      <td>-1</td>\n",
       "      <td>-1</td>\n",
       "      <td>...</td>\n",
       "      <td>0.0</td>\n",
       "      <td>0.0</td>\n",
       "      <td>0.0</td>\n",
       "      <td>0.0</td>\n",
       "      <td>689.0</td>\n",
       "      <td>0.0</td>\n",
       "      <td>0.0</td>\n",
       "      <td>0.0</td>\n",
       "      <td>0.0</td>\n",
       "      <td>1</td>\n",
       "    </tr>\n",
       "    <tr>\n",
       "      <th>1</th>\n",
       "      <td>2</td>\n",
       "      <td>120000.0</td>\n",
       "      <td>2</td>\n",
       "      <td>2</td>\n",
       "      <td>2</td>\n",
       "      <td>26</td>\n",
       "      <td>-1</td>\n",
       "      <td>2</td>\n",
       "      <td>0</td>\n",
       "      <td>0</td>\n",
       "      <td>...</td>\n",
       "      <td>3272.0</td>\n",
       "      <td>3455.0</td>\n",
       "      <td>3261.0</td>\n",
       "      <td>0.0</td>\n",
       "      <td>1000.0</td>\n",
       "      <td>1000.0</td>\n",
       "      <td>1000.0</td>\n",
       "      <td>0.0</td>\n",
       "      <td>2000.0</td>\n",
       "      <td>1</td>\n",
       "    </tr>\n",
       "    <tr>\n",
       "      <th>2</th>\n",
       "      <td>3</td>\n",
       "      <td>90000.0</td>\n",
       "      <td>2</td>\n",
       "      <td>2</td>\n",
       "      <td>2</td>\n",
       "      <td>34</td>\n",
       "      <td>0</td>\n",
       "      <td>0</td>\n",
       "      <td>0</td>\n",
       "      <td>0</td>\n",
       "      <td>...</td>\n",
       "      <td>14331.0</td>\n",
       "      <td>14948.0</td>\n",
       "      <td>15549.0</td>\n",
       "      <td>1518.0</td>\n",
       "      <td>1500.0</td>\n",
       "      <td>1000.0</td>\n",
       "      <td>1000.0</td>\n",
       "      <td>1000.0</td>\n",
       "      <td>5000.0</td>\n",
       "      <td>0</td>\n",
       "    </tr>\n",
       "    <tr>\n",
       "      <th>3</th>\n",
       "      <td>4</td>\n",
       "      <td>50000.0</td>\n",
       "      <td>2</td>\n",
       "      <td>2</td>\n",
       "      <td>1</td>\n",
       "      <td>37</td>\n",
       "      <td>0</td>\n",
       "      <td>0</td>\n",
       "      <td>0</td>\n",
       "      <td>0</td>\n",
       "      <td>...</td>\n",
       "      <td>28314.0</td>\n",
       "      <td>28959.0</td>\n",
       "      <td>29547.0</td>\n",
       "      <td>2000.0</td>\n",
       "      <td>2019.0</td>\n",
       "      <td>1200.0</td>\n",
       "      <td>1100.0</td>\n",
       "      <td>1069.0</td>\n",
       "      <td>1000.0</td>\n",
       "      <td>0</td>\n",
       "    </tr>\n",
       "    <tr>\n",
       "      <th>4</th>\n",
       "      <td>5</td>\n",
       "      <td>50000.0</td>\n",
       "      <td>1</td>\n",
       "      <td>2</td>\n",
       "      <td>1</td>\n",
       "      <td>57</td>\n",
       "      <td>-1</td>\n",
       "      <td>0</td>\n",
       "      <td>-1</td>\n",
       "      <td>0</td>\n",
       "      <td>...</td>\n",
       "      <td>20940.0</td>\n",
       "      <td>19146.0</td>\n",
       "      <td>19131.0</td>\n",
       "      <td>2000.0</td>\n",
       "      <td>36681.0</td>\n",
       "      <td>10000.0</td>\n",
       "      <td>9000.0</td>\n",
       "      <td>689.0</td>\n",
       "      <td>679.0</td>\n",
       "      <td>0</td>\n",
       "    </tr>\n",
       "  </tbody>\n",
       "</table>\n",
       "<p>5 rows × 25 columns</p>\n",
       "</div>"
      ],
      "text/plain": [
       "   ID  LIMIT_BAL  SEX  EDUCATION  MARRIAGE  AGE  PAY_0  PAY_2  PAY_3  PAY_4  \\\n",
       "0   1    20000.0    2          2         1   24      2      2     -1     -1   \n",
       "1   2   120000.0    2          2         2   26     -1      2      0      0   \n",
       "2   3    90000.0    2          2         2   34      0      0      0      0   \n",
       "3   4    50000.0    2          2         1   37      0      0      0      0   \n",
       "4   5    50000.0    1          2         1   57     -1      0     -1      0   \n",
       "\n",
       "   ...  BILL_AMT4  BILL_AMT5  BILL_AMT6  PAY_AMT1  PAY_AMT2  PAY_AMT3  \\\n",
       "0  ...        0.0        0.0        0.0       0.0     689.0       0.0   \n",
       "1  ...     3272.0     3455.0     3261.0       0.0    1000.0    1000.0   \n",
       "2  ...    14331.0    14948.0    15549.0    1518.0    1500.0    1000.0   \n",
       "3  ...    28314.0    28959.0    29547.0    2000.0    2019.0    1200.0   \n",
       "4  ...    20940.0    19146.0    19131.0    2000.0   36681.0   10000.0   \n",
       "\n",
       "   PAY_AMT4  PAY_AMT5  PAY_AMT6  default.payment.next.month  \n",
       "0       0.0       0.0       0.0                           1  \n",
       "1    1000.0       0.0    2000.0                           1  \n",
       "2    1000.0    1000.0    5000.0                           0  \n",
       "3    1100.0    1069.0    1000.0                           0  \n",
       "4    9000.0     689.0     679.0                           0  \n",
       "\n",
       "[5 rows x 25 columns]"
      ]
     },
     "execution_count": 3,
     "metadata": {},
     "output_type": "execute_result"
    }
   ],
   "source": [
    "df = pd.read_csv('uci_credit_card.csv')\n",
    "df.head()"
   ]
  },
  {
   "attachments": {},
   "cell_type": "markdown",
   "metadata": {
    "papermill": {
     "duration": 0.021659,
     "end_time": "2020-11-16T03:02:43.960759",
     "exception": false,
     "start_time": "2020-11-16T03:02:43.939100",
     "status": "completed"
    },
    "tags": []
   },
   "source": [
    "The description of each column/variable can be seen below :\n",
    "- ID: ID of each client\n",
    "- LIMIT_BAL: Amount of given credit in NT dollars (includes individual and family/supplementary credit)\n",
    "- SEX: Gender (1=male, 2=female)\n",
    "- EDUCATION: (1=graduate school, 2=university, 3=high school, 4=others, 5=unknown, 6=unknown)\n",
    "- MARRIAGE: Marital status (1=married, 2=single, 3=others)\n",
    "- AGE: Age in years\n",
    "- PAY_0: Repayment status in September, 2005 (-1=pay duly, 1=payment delay for one month, 2=payment delay for two months, … 8=payment delay for eight months, 9=payment delay for nine months and above)\n",
    "- PAY_2: Repayment status in August, 2005 (scale same as above)\n",
    "- PAY_3: Repayment status in July, 2005 (scale same as above)\n",
    "- PAY_4: Repayment status in June, 2005 (scale same as above)\n",
    "- PAY_5: Repayment status in May, 2005 (scale same as above)\n",
    "- PAY_6: Repayment status in April, 2005 (scale same as above)\n",
    "- BILL_AMT1: Amount of bill statement in September, 2005 (NT dollar)\n",
    "- BILL_AMT2: Amount of bill statement in August, 2005 (NT dollar)\n",
    "- BILL_AMT3: Amount of bill statement in July, 2005 (NT dollar)\n",
    "- BILL_AMT4: Amount of bill statement in June, 2005 (NT dollar)\n",
    "- BILL_AMT5: Amount of bill statement in May, 2005 (NT dollar)\n",
    "- BILL_AMT6: Amount of bill statement in April, 2005 (NT dollar)\n",
    "- PAY_AMT1: Amount of previous payment in September, 2005 (NT dollar)\n",
    "- PAY_AMT2: Amount of previous payment in August, 2005 (NT dollar)\n",
    "- PAY_AMT3: Amount of previous payment in July, 2005 (NT dollar)\n",
    "- PAY_AMT4: Amount of previous payment in June, 2005 (NT dollar)\n",
    "- PAY_AMT5: Amount of previous payment in May, 2005 (NT dollar)\n",
    "- PAY_AMT6: Amount of previous payment in April, 2005 (NT dollar)\n",
    "- default.payment.next.month: Default payment (1=yes, 0=no)"
   ]
  },
  {
   "cell_type": "markdown",
   "metadata": {
    "papermill": {
     "duration": 0.022114,
     "end_time": "2020-11-16T03:02:44.004764",
     "exception": false,
     "start_time": "2020-11-16T03:02:43.982650",
     "status": "completed"
    },
    "tags": []
   },
   "source": [
    "## Data Exploratory\n",
    "As we can see the description of each column/variable, those are the numerical data so that the data summary are all based on basic statistics in mean, median, minimum and maximum etc which detailed below."
   ]
  },
  {
   "cell_type": "code",
   "execution_count": 4,
   "metadata": {
    "execution": {
     "iopub.execute_input": "2020-11-16T03:02:44.063218Z",
     "iopub.status.busy": "2020-11-16T03:02:44.062386Z",
     "iopub.status.idle": "2020-11-16T03:02:44.187602Z",
     "shell.execute_reply": "2020-11-16T03:02:44.186791Z"
    },
    "papermill": {
     "duration": 0.160517,
     "end_time": "2020-11-16T03:02:44.187737",
     "exception": false,
     "start_time": "2020-11-16T03:02:44.027220",
     "status": "completed"
    },
    "tags": []
   },
   "outputs": [
    {
     "data": {
      "text/html": [
       "<div>\n",
       "<style scoped>\n",
       "    .dataframe tbody tr th:only-of-type {\n",
       "        vertical-align: middle;\n",
       "    }\n",
       "\n",
       "    .dataframe tbody tr th {\n",
       "        vertical-align: top;\n",
       "    }\n",
       "\n",
       "    .dataframe thead th {\n",
       "        text-align: right;\n",
       "    }\n",
       "</style>\n",
       "<table border=\"1\" class=\"dataframe\">\n",
       "  <thead>\n",
       "    <tr style=\"text-align: right;\">\n",
       "      <th></th>\n",
       "      <th>ID</th>\n",
       "      <th>LIMIT_BAL</th>\n",
       "      <th>SEX</th>\n",
       "      <th>EDUCATION</th>\n",
       "      <th>MARRIAGE</th>\n",
       "      <th>AGE</th>\n",
       "      <th>PAY_0</th>\n",
       "      <th>PAY_2</th>\n",
       "      <th>PAY_3</th>\n",
       "      <th>PAY_4</th>\n",
       "      <th>...</th>\n",
       "      <th>BILL_AMT4</th>\n",
       "      <th>BILL_AMT5</th>\n",
       "      <th>BILL_AMT6</th>\n",
       "      <th>PAY_AMT1</th>\n",
       "      <th>PAY_AMT2</th>\n",
       "      <th>PAY_AMT3</th>\n",
       "      <th>PAY_AMT4</th>\n",
       "      <th>PAY_AMT5</th>\n",
       "      <th>PAY_AMT6</th>\n",
       "      <th>default.payment.next.month</th>\n",
       "    </tr>\n",
       "  </thead>\n",
       "  <tbody>\n",
       "    <tr>\n",
       "      <th>count</th>\n",
       "      <td>30000.000000</td>\n",
       "      <td>30000.000000</td>\n",
       "      <td>30000.000000</td>\n",
       "      <td>30000.000000</td>\n",
       "      <td>30000.000000</td>\n",
       "      <td>30000.000000</td>\n",
       "      <td>30000.000000</td>\n",
       "      <td>30000.000000</td>\n",
       "      <td>30000.000000</td>\n",
       "      <td>30000.000000</td>\n",
       "      <td>...</td>\n",
       "      <td>30000.000000</td>\n",
       "      <td>30000.000000</td>\n",
       "      <td>30000.000000</td>\n",
       "      <td>30000.000000</td>\n",
       "      <td>3.000000e+04</td>\n",
       "      <td>30000.00000</td>\n",
       "      <td>30000.000000</td>\n",
       "      <td>30000.000000</td>\n",
       "      <td>30000.000000</td>\n",
       "      <td>30000.000000</td>\n",
       "    </tr>\n",
       "    <tr>\n",
       "      <th>mean</th>\n",
       "      <td>15000.500000</td>\n",
       "      <td>167484.322667</td>\n",
       "      <td>1.603733</td>\n",
       "      <td>1.853133</td>\n",
       "      <td>1.551867</td>\n",
       "      <td>35.485500</td>\n",
       "      <td>-0.016700</td>\n",
       "      <td>-0.133767</td>\n",
       "      <td>-0.166200</td>\n",
       "      <td>-0.220667</td>\n",
       "      <td>...</td>\n",
       "      <td>43262.948967</td>\n",
       "      <td>40311.400967</td>\n",
       "      <td>38871.760400</td>\n",
       "      <td>5663.580500</td>\n",
       "      <td>5.921163e+03</td>\n",
       "      <td>5225.68150</td>\n",
       "      <td>4826.076867</td>\n",
       "      <td>4799.387633</td>\n",
       "      <td>5215.502567</td>\n",
       "      <td>0.221200</td>\n",
       "    </tr>\n",
       "    <tr>\n",
       "      <th>std</th>\n",
       "      <td>8660.398374</td>\n",
       "      <td>129747.661567</td>\n",
       "      <td>0.489129</td>\n",
       "      <td>0.790349</td>\n",
       "      <td>0.521970</td>\n",
       "      <td>9.217904</td>\n",
       "      <td>1.123802</td>\n",
       "      <td>1.197186</td>\n",
       "      <td>1.196868</td>\n",
       "      <td>1.169139</td>\n",
       "      <td>...</td>\n",
       "      <td>64332.856134</td>\n",
       "      <td>60797.155770</td>\n",
       "      <td>59554.107537</td>\n",
       "      <td>16563.280354</td>\n",
       "      <td>2.304087e+04</td>\n",
       "      <td>17606.96147</td>\n",
       "      <td>15666.159744</td>\n",
       "      <td>15278.305679</td>\n",
       "      <td>17777.465775</td>\n",
       "      <td>0.415062</td>\n",
       "    </tr>\n",
       "    <tr>\n",
       "      <th>min</th>\n",
       "      <td>1.000000</td>\n",
       "      <td>10000.000000</td>\n",
       "      <td>1.000000</td>\n",
       "      <td>0.000000</td>\n",
       "      <td>0.000000</td>\n",
       "      <td>21.000000</td>\n",
       "      <td>-2.000000</td>\n",
       "      <td>-2.000000</td>\n",
       "      <td>-2.000000</td>\n",
       "      <td>-2.000000</td>\n",
       "      <td>...</td>\n",
       "      <td>-170000.000000</td>\n",
       "      <td>-81334.000000</td>\n",
       "      <td>-339603.000000</td>\n",
       "      <td>0.000000</td>\n",
       "      <td>0.000000e+00</td>\n",
       "      <td>0.00000</td>\n",
       "      <td>0.000000</td>\n",
       "      <td>0.000000</td>\n",
       "      <td>0.000000</td>\n",
       "      <td>0.000000</td>\n",
       "    </tr>\n",
       "    <tr>\n",
       "      <th>25%</th>\n",
       "      <td>7500.750000</td>\n",
       "      <td>50000.000000</td>\n",
       "      <td>1.000000</td>\n",
       "      <td>1.000000</td>\n",
       "      <td>1.000000</td>\n",
       "      <td>28.000000</td>\n",
       "      <td>-1.000000</td>\n",
       "      <td>-1.000000</td>\n",
       "      <td>-1.000000</td>\n",
       "      <td>-1.000000</td>\n",
       "      <td>...</td>\n",
       "      <td>2326.750000</td>\n",
       "      <td>1763.000000</td>\n",
       "      <td>1256.000000</td>\n",
       "      <td>1000.000000</td>\n",
       "      <td>8.330000e+02</td>\n",
       "      <td>390.00000</td>\n",
       "      <td>296.000000</td>\n",
       "      <td>252.500000</td>\n",
       "      <td>117.750000</td>\n",
       "      <td>0.000000</td>\n",
       "    </tr>\n",
       "    <tr>\n",
       "      <th>50%</th>\n",
       "      <td>15000.500000</td>\n",
       "      <td>140000.000000</td>\n",
       "      <td>2.000000</td>\n",
       "      <td>2.000000</td>\n",
       "      <td>2.000000</td>\n",
       "      <td>34.000000</td>\n",
       "      <td>0.000000</td>\n",
       "      <td>0.000000</td>\n",
       "      <td>0.000000</td>\n",
       "      <td>0.000000</td>\n",
       "      <td>...</td>\n",
       "      <td>19052.000000</td>\n",
       "      <td>18104.500000</td>\n",
       "      <td>17071.000000</td>\n",
       "      <td>2100.000000</td>\n",
       "      <td>2.009000e+03</td>\n",
       "      <td>1800.00000</td>\n",
       "      <td>1500.000000</td>\n",
       "      <td>1500.000000</td>\n",
       "      <td>1500.000000</td>\n",
       "      <td>0.000000</td>\n",
       "    </tr>\n",
       "    <tr>\n",
       "      <th>75%</th>\n",
       "      <td>22500.250000</td>\n",
       "      <td>240000.000000</td>\n",
       "      <td>2.000000</td>\n",
       "      <td>2.000000</td>\n",
       "      <td>2.000000</td>\n",
       "      <td>41.000000</td>\n",
       "      <td>0.000000</td>\n",
       "      <td>0.000000</td>\n",
       "      <td>0.000000</td>\n",
       "      <td>0.000000</td>\n",
       "      <td>...</td>\n",
       "      <td>54506.000000</td>\n",
       "      <td>50190.500000</td>\n",
       "      <td>49198.250000</td>\n",
       "      <td>5006.000000</td>\n",
       "      <td>5.000000e+03</td>\n",
       "      <td>4505.00000</td>\n",
       "      <td>4013.250000</td>\n",
       "      <td>4031.500000</td>\n",
       "      <td>4000.000000</td>\n",
       "      <td>0.000000</td>\n",
       "    </tr>\n",
       "    <tr>\n",
       "      <th>max</th>\n",
       "      <td>30000.000000</td>\n",
       "      <td>1000000.000000</td>\n",
       "      <td>2.000000</td>\n",
       "      <td>6.000000</td>\n",
       "      <td>3.000000</td>\n",
       "      <td>79.000000</td>\n",
       "      <td>8.000000</td>\n",
       "      <td>8.000000</td>\n",
       "      <td>8.000000</td>\n",
       "      <td>8.000000</td>\n",
       "      <td>...</td>\n",
       "      <td>891586.000000</td>\n",
       "      <td>927171.000000</td>\n",
       "      <td>961664.000000</td>\n",
       "      <td>873552.000000</td>\n",
       "      <td>1.684259e+06</td>\n",
       "      <td>896040.00000</td>\n",
       "      <td>621000.000000</td>\n",
       "      <td>426529.000000</td>\n",
       "      <td>528666.000000</td>\n",
       "      <td>1.000000</td>\n",
       "    </tr>\n",
       "  </tbody>\n",
       "</table>\n",
       "<p>8 rows × 25 columns</p>\n",
       "</div>"
      ],
      "text/plain": [
       "                 ID       LIMIT_BAL           SEX     EDUCATION      MARRIAGE  \\\n",
       "count  30000.000000    30000.000000  30000.000000  30000.000000  30000.000000   \n",
       "mean   15000.500000   167484.322667      1.603733      1.853133      1.551867   \n",
       "std     8660.398374   129747.661567      0.489129      0.790349      0.521970   \n",
       "min        1.000000    10000.000000      1.000000      0.000000      0.000000   \n",
       "25%     7500.750000    50000.000000      1.000000      1.000000      1.000000   \n",
       "50%    15000.500000   140000.000000      2.000000      2.000000      2.000000   \n",
       "75%    22500.250000   240000.000000      2.000000      2.000000      2.000000   \n",
       "max    30000.000000  1000000.000000      2.000000      6.000000      3.000000   \n",
       "\n",
       "                AGE         PAY_0         PAY_2         PAY_3         PAY_4  \\\n",
       "count  30000.000000  30000.000000  30000.000000  30000.000000  30000.000000   \n",
       "mean      35.485500     -0.016700     -0.133767     -0.166200     -0.220667   \n",
       "std        9.217904      1.123802      1.197186      1.196868      1.169139   \n",
       "min       21.000000     -2.000000     -2.000000     -2.000000     -2.000000   \n",
       "25%       28.000000     -1.000000     -1.000000     -1.000000     -1.000000   \n",
       "50%       34.000000      0.000000      0.000000      0.000000      0.000000   \n",
       "75%       41.000000      0.000000      0.000000      0.000000      0.000000   \n",
       "max       79.000000      8.000000      8.000000      8.000000      8.000000   \n",
       "\n",
       "       ...      BILL_AMT4      BILL_AMT5      BILL_AMT6       PAY_AMT1  \\\n",
       "count  ...   30000.000000   30000.000000   30000.000000   30000.000000   \n",
       "mean   ...   43262.948967   40311.400967   38871.760400    5663.580500   \n",
       "std    ...   64332.856134   60797.155770   59554.107537   16563.280354   \n",
       "min    ... -170000.000000  -81334.000000 -339603.000000       0.000000   \n",
       "25%    ...    2326.750000    1763.000000    1256.000000    1000.000000   \n",
       "50%    ...   19052.000000   18104.500000   17071.000000    2100.000000   \n",
       "75%    ...   54506.000000   50190.500000   49198.250000    5006.000000   \n",
       "max    ...  891586.000000  927171.000000  961664.000000  873552.000000   \n",
       "\n",
       "           PAY_AMT2      PAY_AMT3       PAY_AMT4       PAY_AMT5  \\\n",
       "count  3.000000e+04   30000.00000   30000.000000   30000.000000   \n",
       "mean   5.921163e+03    5225.68150    4826.076867    4799.387633   \n",
       "std    2.304087e+04   17606.96147   15666.159744   15278.305679   \n",
       "min    0.000000e+00       0.00000       0.000000       0.000000   \n",
       "25%    8.330000e+02     390.00000     296.000000     252.500000   \n",
       "50%    2.009000e+03    1800.00000    1500.000000    1500.000000   \n",
       "75%    5.000000e+03    4505.00000    4013.250000    4031.500000   \n",
       "max    1.684259e+06  896040.00000  621000.000000  426529.000000   \n",
       "\n",
       "            PAY_AMT6  default.payment.next.month  \n",
       "count   30000.000000                30000.000000  \n",
       "mean     5215.502567                    0.221200  \n",
       "std     17777.465775                    0.415062  \n",
       "min         0.000000                    0.000000  \n",
       "25%       117.750000                    0.000000  \n",
       "50%      1500.000000                    0.000000  \n",
       "75%      4000.000000                    0.000000  \n",
       "max    528666.000000                    1.000000  \n",
       "\n",
       "[8 rows x 25 columns]"
      ]
     },
     "execution_count": 4,
     "metadata": {},
     "output_type": "execute_result"
    }
   ],
   "source": [
    "df.describe()"
   ]
  },
  {
   "cell_type": "markdown",
   "metadata": {
    "papermill": {
     "duration": 0.023024,
     "end_time": "2020-11-16T03:02:44.236692",
     "exception": false,
     "start_time": "2020-11-16T03:02:44.213668",
     "status": "completed"
    },
    "tags": []
   },
   "source": [
    "Next, we want see the correlation between all of features and label in the dataset by using the Pearson correlation formula below. <br>\n",
    "$$Covarian (S_{xy}) =\\frac{\\sum(x_{i}-\\bar{x})(y_{i}-\\bar{y})}{n-1}$$\n",
    "\n",
    "\n",
    "The plot below is the correlation between all features (predictor variables) toward label."
   ]
  },
  {
   "cell_type": "code",
   "execution_count": 6,
   "metadata": {
    "execution": {
     "iopub.execute_input": "2020-11-16T03:02:44.291918Z",
     "iopub.status.busy": "2020-11-16T03:02:44.291117Z",
     "iopub.status.idle": "2020-11-16T03:02:44.887969Z",
     "shell.execute_reply": "2020-11-16T03:02:44.887330Z"
    },
    "papermill": {
     "duration": 0.62819,
     "end_time": "2020-11-16T03:02:44.888094",
     "exception": false,
     "start_time": "2020-11-16T03:02:44.259904",
     "status": "completed"
    },
    "tags": []
   },
   "outputs": [
    {
     "data": {
      "image/png": "[encoded data removed]",
      "text/plain": [
       "<Figure size 1400x1400 with 2 Axes>"
      ]
     },
     "metadata": {},
     "output_type": "display_data"
    }
   ],
   "source": [
    "# Using Pearson Correlation\n",
    "plt.figure(figsize=(14,14))\n",
    "cor = df.iloc[:,1:].corr()\n",
    "x = cor [['default.payment.next.month']]\n",
    "sns.heatmap(x, annot=True, cmap=plt.cm.Reds)\n",
    "plt.show()"
   ]
  },
  {
   "cell_type": "markdown",
   "metadata": {
    "papermill": {
     "duration": 0.024519,
     "end_time": "2020-11-16T03:02:44.938423",
     "exception": false,
     "start_time": "2020-11-16T03:02:44.913904",
     "status": "completed"
    },
    "tags": []
   },
   "source": [
    "As we can see in the plot above, the repayment status of customers (PAY_0 - PAY_6) have the higher correlation towards the label (default.payment.next.month) in compared to other features."
   ]
  },
  {
   "cell_type": "markdown",
   "metadata": {
    "papermill": {
     "duration": 0.024348,
     "end_time": "2020-11-16T03:02:44.987727",
     "exception": false,
     "start_time": "2020-11-16T03:02:44.963379",
     "status": "completed"
    },
    "tags": []
   },
   "source": [
    "# Data Preparation\n",
    "## Data Cleansing\n",
    "Before implementing the ANN to predict the \"credit default customer\", we have to check the data, whether it needs cleaning or not."
   ]
  },
  {
   "cell_type": "code",
   "execution_count": 7,
   "metadata": {
    "execution": {
     "iopub.execute_input": "2020-11-16T03:02:45.046242Z",
     "iopub.status.busy": "2020-11-16T03:02:45.045480Z",
     "iopub.status.idle": "2020-11-16T03:02:45.055793Z",
     "shell.execute_reply": "2020-11-16T03:02:45.055057Z"
    },
    "papermill": {
     "duration": 0.041363,
     "end_time": "2020-11-16T03:02:45.055931",
     "exception": false,
     "start_time": "2020-11-16T03:02:45.014568",
     "status": "completed"
    },
    "tags": []
   },
   "outputs": [
    {
     "data": {
      "text/plain": [
       "ID                            0\n",
       "LIMIT_BAL                     0\n",
       "SEX                           0\n",
       "EDUCATION                     0\n",
       "MARRIAGE                      0\n",
       "AGE                           0\n",
       "PAY_0                         0\n",
       "PAY_2                         0\n",
       "PAY_3                         0\n",
       "PAY_4                         0\n",
       "PAY_5                         0\n",
       "PAY_6                         0\n",
       "BILL_AMT1                     0\n",
       "BILL_AMT2                     0\n",
       "BILL_AMT3                     0\n",
       "BILL_AMT4                     0\n",
       "BILL_AMT5                     0\n",
       "BILL_AMT6                     0\n",
       "PAY_AMT1                      0\n",
       "PAY_AMT2                      0\n",
       "PAY_AMT3                      0\n",
       "PAY_AMT4                      0\n",
       "PAY_AMT5                      0\n",
       "PAY_AMT6                      0\n",
       "default.payment.next.month    0\n",
       "dtype: int64"
      ]
     },
     "execution_count": 7,
     "metadata": {},
     "output_type": "execute_result"
    }
   ],
   "source": [
    "df.isnull().sum()"
   ]
  },
  {
   "cell_type": "markdown",
   "metadata": {
    "papermill": {
     "duration": 0.025372,
     "end_time": "2020-11-16T03:02:45.107555",
     "exception": false,
     "start_time": "2020-11-16T03:02:45.082183",
     "status": "completed"
    },
    "tags": []
   },
   "source": [
    "After checking the summary of missing value in the dataset, the result shows that the data has no missing values so that the data is ready to the next stage."
   ]
  },
  {
   "cell_type": "markdown",
   "metadata": {
    "papermill": {
     "duration": 0.024971,
     "end_time": "2020-11-16T03:02:45.157828",
     "exception": false,
     "start_time": "2020-11-16T03:02:45.132857",
     "status": "completed"
    },
    "tags": []
   },
   "source": [
    "## Splitting Data to Training and Test Data\n",
    "In this stage, the clean data will be splitted into 2 categories, train data and test data. The train data will be utilized in the training ANN model, and the data test will be used to test the trained model whether the model has good generalization or not in predicting the future data. In this stage, 80% data will be used as the train data and the rest as the test data.\n",
    "\n",
    "Before splitting, the dataset will be grouped into 2 variables, the data from 2nd to 24rd column as the predictor features (the first columns is not included as predictor) will be groped as X, and the data from 25th columns (label)  will be renamed as y."
   ]
  },
  {
   "cell_type": "code",
   "execution_count": 8,
   "metadata": {
    "execution": {
     "iopub.execute_input": "2020-11-16T03:02:45.220808Z",
     "iopub.status.busy": "2020-11-16T03:02:45.219273Z",
     "iopub.status.idle": "2020-11-16T03:02:45.237710Z",
     "shell.execute_reply": "2020-11-16T03:02:45.237027Z"
    },
    "papermill": {
     "duration": 0.054661,
     "end_time": "2020-11-16T03:02:45.237837",
     "exception": false,
     "start_time": "2020-11-16T03:02:45.183176",
     "status": "completed"
    },
    "tags": []
   },
   "outputs": [],
   "source": [
    "X = df.iloc[:, 1:24].values\n",
    "y = df.iloc[:, 24].values\n",
    "\n",
    "X_train, X_test, y_train, y_test = train_test_split(X, y, test_size=0.2, random_state=0)"
   ]
  },
  {
   "cell_type": "markdown",
   "metadata": {
    "papermill": {
     "duration": 0.027575,
     "end_time": "2020-11-16T03:02:45.291245",
     "exception": false,
     "start_time": "2020-11-16T03:02:45.263670",
     "status": "completed"
    },
    "tags": []
   },
   "source": [
    "## Data Standardization\n",
    "\n",
    "After splitting data, the numeric data will be standardized by scaling the data to have mean of 0 and variance of 1. \n",
    "$$X_{stand} = \\frac{X - \\mu}{\\sigma}$$"
   ]
  },
  {
   "cell_type": "code",
   "execution_count": 13,
   "metadata": {
    "execution": {
     "iopub.execute_input": "2020-11-16T03:02:45.356710Z",
     "iopub.status.busy": "2020-11-16T03:02:45.355888Z",
     "iopub.status.idle": "2020-11-16T03:02:45.377988Z",
     "shell.execute_reply": "2020-11-16T03:02:45.378590Z"
    },
    "papermill": {
     "duration": 0.054025,
     "end_time": "2020-11-16T03:02:45.378772",
     "exception": false,
     "start_time": "2020-11-16T03:02:45.324747",
     "status": "completed"
    },
    "tags": []
   },
   "outputs": [],
   "source": [
    "sc = StandardScaler()\n",
    "X_train = sc.fit_transform(X_train)\n",
    "X_test = sc.transform(X_test)"
   ]
  },
  {
   "cell_type": "markdown",
   "metadata": {
    "papermill": {
     "duration": 0.025418,
     "end_time": "2020-11-16T03:02:45.430267",
     "exception": false,
     "start_time": "2020-11-16T03:02:45.404849",
     "status": "completed"
    },
    "tags": []
   },
   "source": [
    "# Modelling\n",
    "\n",
    "On the Modeling phase, we create the ANN model with 5 hidden layer (with 50,40,30,20, and 10 neurons respectively) with _relu_ activation function, and 1 output layer with 1 neuron with _sigmoid_ activation function. Furthermore, we choose the 'Adam' optimizer to optimize the parameter in the created model."
   ]
  },
  {
   "cell_type": "code",
   "execution_count": 14,
   "metadata": {
    "execution": {
     "iopub.execute_input": "2020-11-16T03:02:45.493521Z",
     "iopub.status.busy": "2020-11-16T03:02:45.492459Z",
     "iopub.status.idle": "2020-11-16T03:02:45.661052Z",
     "shell.execute_reply": "2020-11-16T03:02:45.660261Z"
    },
    "papermill": {
     "duration": 0.205027,
     "end_time": "2020-11-16T03:02:45.661178",
     "exception": false,
     "start_time": "2020-11-16T03:02:45.456151",
     "status": "completed"
    },
    "tags": []
   },
   "outputs": [],
   "source": [
    "hl   = 5                    # number of hidden layer\n",
    "nohl = [50,40,30,20,10]     # number of neurons in each hidden layer\n",
    "classifier = Sequential()\n",
    "\n",
    "# Hidden Layer\n",
    "for i in range(hl):\n",
    "    if i==0:\n",
    "        classifier.add(Dense(units=nohl[i], input_dim=X_train.shape[1], kernel_initializer='uniform', activation='relu'))\n",
    "    else :\n",
    "        classifier.add(Dense(units=nohl[i], kernel_initializer=glorot_uniform(seed=0), activation='relu'))\n",
    "\n",
    "# Output Layer\n",
    "classifier.add(Dense(units=1, kernel_initializer=glorot_uniform(seed=0), activation='sigmoid'))\n",
    "\n",
    "classifier.compile(optimizer='adam', loss='binary_crossentropy', metrics=['accuracy'])"
   ]
  },
  {
   "cell_type": "markdown",
   "metadata": {
    "papermill": {
     "duration": 0.025698,
     "end_time": "2020-11-16T03:02:45.712752",
     "exception": false,
     "start_time": "2020-11-16T03:02:45.687054",
     "status": "completed"
    },
    "tags": []
   },
   "source": [
    "Here below the summary of created model architecture by ANN with the parameters needed."
   ]
  },
  {
   "cell_type": "code",
   "execution_count": 15,
   "metadata": {
    "execution": {
     "iopub.execute_input": "2020-11-16T03:02:45.772707Z",
     "iopub.status.busy": "2020-11-16T03:02:45.771579Z",
     "iopub.status.idle": "2020-11-16T03:02:45.779371Z",
     "shell.execute_reply": "2020-11-16T03:02:45.778277Z"
    },
    "papermill": {
     "duration": 0.040888,
     "end_time": "2020-11-16T03:02:45.779565",
     "exception": false,
     "start_time": "2020-11-16T03:02:45.738677",
     "status": "completed"
    },
    "tags": []
   },
   "outputs": [
    {
     "name": "stdout",
     "output_type": "stream",
     "text": [
      "Model: \"sequential_1\"\n",
      "_________________________________________________________________\n",
      "Layer (type)                 Output Shape              Param #   \n",
      "=================================================================\n",
      "dense_6 (Dense)              (None, 50)                1200      \n",
      "_________________________________________________________________\n",
      "dense_7 (Dense)              (None, 40)                2040      \n",
      "_________________________________________________________________\n",
      "dense_8 (Dense)              (None, 30)                1230      \n",
      "_________________________________________________________________\n",
      "dense_9 (Dense)              (None, 20)                620       \n",
      "_________________________________________________________________\n",
      "dense_10 (Dense)             (None, 10)                210       \n",
      "_________________________________________________________________\n",
      "dense_11 (Dense)             (None, 1)                 11        \n",
      "=================================================================\n",
      "Total params: 5,311\n",
      "Trainable params: 5,311\n",
      "Non-trainable params: 0\n",
      "_________________________________________________________________\n"
     ]
    }
   ],
   "source": [
    "classifier.summary()"
   ]
  },
  {
   "cell_type": "markdown",
   "metadata": {
    "papermill": {
     "duration": 0.026219,
     "end_time": "2020-11-16T03:02:45.832981",
     "exception": false,
     "start_time": "2020-11-16T03:02:45.806762",
     "status": "completed"
    },
    "tags": []
   },
   "source": [
    "After create the model architecture by ANN, we train the model by a certain number of epoch and batch."
   ]
  },
  {
   "cell_type": "code",
   "execution_count": 16,
   "metadata": {
    "execution": {
     "iopub.execute_input": "2020-11-16T03:02:45.892727Z",
     "iopub.status.busy": "2020-11-16T03:02:45.891900Z",
     "iopub.status.idle": "2020-11-16T03:02:58.138632Z",
     "shell.execute_reply": "2020-11-16T03:02:58.137729Z"
    },
    "papermill": {
     "duration": 12.278881,
     "end_time": "2020-11-16T03:02:58.138769",
     "exception": false,
     "start_time": "2020-11-16T03:02:45.859888",
     "status": "completed"
    },
    "tags": []
   },
   "outputs": [
    {
     "name": "stdout",
     "output_type": "stream",
     "text": [
      "Epoch 1/100\n",
      "47/47 [==============================] - 1s 5ms/step - loss: 0.6269 - accuracy: 0.7579\n",
      "Epoch 2/100\n",
      "47/47 [==============================] - 0s 5ms/step - loss: 0.4710 - accuracy: 0.8080\n",
      "Epoch 3/100\n",
      "47/47 [==============================] - 0s 4ms/step - loss: 0.4507 - accuracy: 0.8138\n",
      "Epoch 4/100\n",
      "47/47 [==============================] - 0s 4ms/step - loss: 0.4436 - accuracy: 0.8154\n",
      "Epoch 5/100\n",
      "47/47 [==============================] - 0s 4ms/step - loss: 0.4396 - accuracy: 0.8165\n",
      "Epoch 6/100\n",
      "47/47 [==============================] - 0s 3ms/step - loss: 0.4361 - accuracy: 0.8168\n",
      "Epoch 7/100\n",
      "47/47 [==============================] - 0s 3ms/step - loss: 0.4338 - accuracy: 0.8178\n",
      "Epoch 8/100\n",
      "47/47 [==============================] - 0s 2ms/step - loss: 0.4309 - accuracy: 0.8179\n",
      "Epoch 9/100\n",
      "47/47 [==============================] - 0s 2ms/step - loss: 0.4288 - accuracy: 0.8186\n",
      "Epoch 10/100\n",
      "47/47 [==============================] - 0s 2ms/step - loss: 0.4272 - accuracy: 0.8200\n",
      "Epoch 11/100\n",
      "47/47 [==============================] - 0s 2ms/step - loss: 0.4261 - accuracy: 0.8187\n",
      "Epoch 12/100\n",
      "47/47 [==============================] - 0s 2ms/step - loss: 0.4269 - accuracy: 0.8195\n",
      "Epoch 13/100\n",
      "47/47 [==============================] - 0s 2ms/step - loss: 0.4250 - accuracy: 0.8198\n",
      "Epoch 14/100\n",
      "47/47 [==============================] - 0s 2ms/step - loss: 0.4234 - accuracy: 0.8202\n",
      "Epoch 15/100\n",
      "47/47 [==============================] - 0s 3ms/step - loss: 0.4228 - accuracy: 0.8207\n",
      "Epoch 16/100\n",
      "47/47 [==============================] - 0s 3ms/step - loss: 0.4222 - accuracy: 0.8208\n",
      "Epoch 17/100\n",
      "47/47 [==============================] - 0s 2ms/step - loss: 0.4216 - accuracy: 0.8208\n",
      "Epoch 18/100\n",
      "47/47 [==============================] - 0s 2ms/step - loss: 0.4217 - accuracy: 0.8205\n",
      "Epoch 19/100\n",
      "47/47 [==============================] - 0s 2ms/step - loss: 0.4203 - accuracy: 0.8212\n",
      "Epoch 20/100\n",
      "47/47 [==============================] - 0s 2ms/step - loss: 0.4192 - accuracy: 0.8215\n",
      "Epoch 21/100\n",
      "47/47 [==============================] - 0s 2ms/step - loss: 0.4183 - accuracy: 0.8227\n",
      "Epoch 22/100\n",
      "47/47 [==============================] - 0s 2ms/step - loss: 0.4182 - accuracy: 0.8218\n",
      "Epoch 23/100\n",
      "47/47 [==============================] - 0s 2ms/step - loss: 0.4179 - accuracy: 0.8225\n",
      "Epoch 24/100\n",
      "47/47 [==============================] - 0s 3ms/step - loss: 0.4177 - accuracy: 0.8224\n",
      "Epoch 25/100\n",
      "47/47 [==============================] - 0s 3ms/step - loss: 0.4166 - accuracy: 0.8224\n",
      "Epoch 26/100\n",
      "47/47 [==============================] - 0s 2ms/step - loss: 0.4159 - accuracy: 0.8223\n",
      "Epoch 27/100\n",
      "47/47 [==============================] - 0s 3ms/step - loss: 0.4151 - accuracy: 0.8215\n",
      "Epoch 28/100\n",
      "47/47 [==============================] - 0s 3ms/step - loss: 0.4153 - accuracy: 0.8224\n",
      "Epoch 29/100\n",
      "47/47 [==============================] - 0s 2ms/step - loss: 0.4153 - accuracy: 0.8229\n",
      "Epoch 30/100\n",
      "47/47 [==============================] - 0s 3ms/step - loss: 0.4133 - accuracy: 0.8232\n",
      "Epoch 31/100\n",
      "47/47 [==============================] - 0s 3ms/step - loss: 0.4146 - accuracy: 0.8219\n",
      "Epoch 32/100\n",
      "47/47 [==============================] - 0s 2ms/step - loss: 0.4126 - accuracy: 0.8230\n",
      "Epoch 33/100\n",
      "47/47 [==============================] - 0s 3ms/step - loss: 0.4117 - accuracy: 0.8235\n",
      "Epoch 34/100\n",
      "47/47 [==============================] - 0s 2ms/step - loss: 0.4113 - accuracy: 0.8233\n",
      "Epoch 35/100\n",
      "47/47 [==============================] - 0s 3ms/step - loss: 0.4103 - accuracy: 0.8238\n",
      "Epoch 36/100\n",
      "47/47 [==============================] - 0s 2ms/step - loss: 0.4107 - accuracy: 0.8238\n",
      "Epoch 37/100\n",
      "47/47 [==============================] - 0s 2ms/step - loss: 0.4104 - accuracy: 0.8234\n",
      "Epoch 38/100\n",
      "47/47 [==============================] - 0s 2ms/step - loss: 0.4081 - accuracy: 0.8251\n",
      "Epoch 39/100\n",
      "47/47 [==============================] - 0s 3ms/step - loss: 0.4083 - accuracy: 0.8240\n",
      "Epoch 40/100\n",
      "47/47 [==============================] - 0s 3ms/step - loss: 0.4077 - accuracy: 0.8244\n",
      "Epoch 41/100\n",
      "47/47 [==============================] - 0s 2ms/step - loss: 0.4082 - accuracy: 0.8238\n",
      "Epoch 42/100\n",
      "47/47 [==============================] - 0s 2ms/step - loss: 0.4084 - accuracy: 0.8244\n",
      "Epoch 43/100\n",
      "47/47 [==============================] - 0s 2ms/step - loss: 0.4071 - accuracy: 0.8262\n",
      "Epoch 44/100\n",
      "47/47 [==============================] - 0s 2ms/step - loss: 0.4052 - accuracy: 0.8262\n",
      "Epoch 45/100\n",
      "47/47 [==============================] - 0s 3ms/step - loss: 0.4042 - accuracy: 0.8270\n",
      "Epoch 46/100\n",
      "47/47 [==============================] - 0s 3ms/step - loss: 0.4034 - accuracy: 0.8260\n",
      "Epoch 47/100\n",
      "47/47 [==============================] - 0s 2ms/step - loss: 0.4031 - accuracy: 0.8267\n",
      "Epoch 48/100\n",
      "47/47 [==============================] - 0s 2ms/step - loss: 0.4045 - accuracy: 0.8273\n",
      "Epoch 49/100\n",
      "47/47 [==============================] - 0s 2ms/step - loss: 0.4039 - accuracy: 0.8254\n",
      "Epoch 50/100\n",
      "47/47 [==============================] - 0s 3ms/step - loss: 0.4031 - accuracy: 0.8264\n",
      "Epoch 51/100\n",
      "47/47 [==============================] - 0s 2ms/step - loss: 0.4004 - accuracy: 0.8283\n",
      "Epoch 52/100\n",
      "47/47 [==============================] - 0s 3ms/step - loss: 0.4004 - accuracy: 0.8274\n",
      "Epoch 53/100\n",
      "47/47 [==============================] - 0s 2ms/step - loss: 0.4001 - accuracy: 0.8267\n",
      "Epoch 54/100\n",
      "47/47 [==============================] - 0s 3ms/step - loss: 0.4004 - accuracy: 0.8283\n",
      "Epoch 55/100\n",
      "47/47 [==============================] - 0s 2ms/step - loss: 0.4013 - accuracy: 0.8281\n",
      "Epoch 56/100\n",
      "47/47 [==============================] - 0s 3ms/step - loss: 0.3999 - accuracy: 0.8282\n",
      "Epoch 57/100\n",
      "47/47 [==============================] - 0s 2ms/step - loss: 0.3982 - accuracy: 0.8278\n",
      "Epoch 58/100\n",
      "47/47 [==============================] - 0s 3ms/step - loss: 0.3963 - accuracy: 0.8287\n",
      "Epoch 59/100\n",
      "47/47 [==============================] - 0s 2ms/step - loss: 0.3966 - accuracy: 0.8292\n",
      "Epoch 60/100\n",
      "47/47 [==============================] - 0s 3ms/step - loss: 0.3965 - accuracy: 0.8289\n",
      "Epoch 61/100\n",
      "47/47 [==============================] - 0s 2ms/step - loss: 0.3948 - accuracy: 0.8290\n",
      "Epoch 62/100\n",
      "47/47 [==============================] - 0s 3ms/step - loss: 0.3946 - accuracy: 0.8291\n",
      "Epoch 63/100\n",
      "47/47 [==============================] - 0s 2ms/step - loss: 0.3938 - accuracy: 0.8299\n",
      "Epoch 64/100\n",
      "47/47 [==============================] - 0s 3ms/step - loss: 0.3937 - accuracy: 0.8300\n",
      "Epoch 65/100\n",
      "47/47 [==============================] - 0s 2ms/step - loss: 0.3921 - accuracy: 0.8303\n",
      "Epoch 66/100\n",
      "47/47 [==============================] - 0s 3ms/step - loss: 0.3913 - accuracy: 0.8323\n",
      "Epoch 67/100\n",
      "47/47 [==============================] - 0s 2ms/step - loss: 0.3897 - accuracy: 0.8320\n",
      "Epoch 68/100\n",
      "47/47 [==============================] - 0s 2ms/step - loss: 0.3895 - accuracy: 0.8318\n",
      "Epoch 69/100\n",
      "47/47 [==============================] - 0s 3ms/step - loss: 0.3895 - accuracy: 0.8320\n",
      "Epoch 70/100\n",
      "47/47 [==============================] - 0s 2ms/step - loss: 0.3892 - accuracy: 0.8329\n",
      "Epoch 71/100\n",
      "47/47 [==============================] - 0s 2ms/step - loss: 0.3894 - accuracy: 0.8334\n",
      "Epoch 72/100\n",
      "47/47 [==============================] - 0s 3ms/step - loss: 0.3881 - accuracy: 0.8310\n",
      "Epoch 73/100\n",
      "47/47 [==============================] - 0s 2ms/step - loss: 0.3876 - accuracy: 0.8331\n",
      "Epoch 74/100\n",
      "47/47 [==============================] - 0s 3ms/step - loss: 0.3865 - accuracy: 0.8332\n",
      "Epoch 75/100\n",
      "47/47 [==============================] - 0s 2ms/step - loss: 0.3862 - accuracy: 0.8342\n",
      "Epoch 76/100\n",
      "47/47 [==============================] - 0s 3ms/step - loss: 0.3847 - accuracy: 0.8335\n",
      "Epoch 77/100\n",
      "47/47 [==============================] - 0s 2ms/step - loss: 0.3845 - accuracy: 0.8332\n",
      "Epoch 78/100\n",
      "47/47 [==============================] - 0s 3ms/step - loss: 0.3857 - accuracy: 0.8320\n",
      "Epoch 79/100\n",
      "47/47 [==============================] - 0s 2ms/step - loss: 0.3863 - accuracy: 0.8327\n",
      "Epoch 80/100\n",
      "47/47 [==============================] - 0s 3ms/step - loss: 0.3846 - accuracy: 0.8336\n",
      "Epoch 81/100\n",
      "47/47 [==============================] - 0s 2ms/step - loss: 0.3824 - accuracy: 0.8348\n",
      "Epoch 82/100\n",
      "47/47 [==============================] - 0s 3ms/step - loss: 0.3818 - accuracy: 0.8363\n",
      "Epoch 83/100\n",
      "47/47 [==============================] - 0s 2ms/step - loss: 0.3814 - accuracy: 0.8348\n",
      "Epoch 84/100\n",
      "47/47 [==============================] - 0s 2ms/step - loss: 0.3832 - accuracy: 0.8347\n",
      "Epoch 85/100\n",
      "47/47 [==============================] - 0s 2ms/step - loss: 0.3814 - accuracy: 0.8350\n",
      "Epoch 86/100\n",
      "47/47 [==============================] - 0s 2ms/step - loss: 0.3781 - accuracy: 0.8362\n",
      "Epoch 87/100\n",
      "47/47 [==============================] - 0s 3ms/step - loss: 0.3781 - accuracy: 0.8357\n",
      "Epoch 88/100\n",
      "47/47 [==============================] - 0s 2ms/step - loss: 0.3792 - accuracy: 0.8378\n",
      "Epoch 89/100\n",
      "47/47 [==============================] - 0s 2ms/step - loss: 0.3789 - accuracy: 0.8370\n",
      "Epoch 90/100\n",
      "47/47 [==============================] - 0s 3ms/step - loss: 0.3765 - accuracy: 0.8371\n",
      "Epoch 91/100\n",
      "47/47 [==============================] - 0s 3ms/step - loss: 0.3769 - accuracy: 0.8368\n",
      "Epoch 92/100\n",
      "47/47 [==============================] - 0s 3ms/step - loss: 0.3755 - accuracy: 0.8369\n",
      "Epoch 93/100\n",
      "47/47 [==============================] - 0s 2ms/step - loss: 0.3773 - accuracy: 0.8382\n",
      "Epoch 94/100\n",
      "47/47 [==============================] - 0s 4ms/step - loss: 0.3754 - accuracy: 0.8367\n",
      "Epoch 95/100\n",
      "47/47 [==============================] - 0s 3ms/step - loss: 0.3744 - accuracy: 0.8396\n",
      "Epoch 96/100\n",
      "47/47 [==============================] - 0s 2ms/step - loss: 0.3736 - accuracy: 0.8374\n",
      "Epoch 97/100\n",
      "47/47 [==============================] - 0s 2ms/step - loss: 0.3732 - accuracy: 0.8395\n",
      "Epoch 98/100\n",
      "47/47 [==============================] - 0s 3ms/step - loss: 0.3717 - accuracy: 0.8405\n",
      "Epoch 99/100\n",
      "47/47 [==============================] - 0s 3ms/step - loss: 0.3721 - accuracy: 0.8401\n",
      "Epoch 100/100\n",
      "47/47 [==============================] - 0s 2ms/step - loss: 0.3730 - accuracy: 0.8394\n"
     ]
    }
   ],
   "source": [
    "history = classifier.fit(X_train, y_train, epochs=100, batch_size=512,)"
   ]
  },
  {
   "cell_type": "code",
   "execution_count": 17,
   "metadata": {},
   "outputs": [
    {
     "data": {
      "image/png": "[encoded data removed]",
      "text/plain": [
       "<Figure size 800x500 with 1 Axes>"
      ]
     },
     "metadata": {},
     "output_type": "display_data"
    }
   ],
   "source": [
    "pd.DataFrame(history.history).plot(figsize=(8,5))\n",
    "plt.show()"
   ]
  },
  {
   "cell_type": "markdown",
   "metadata": {
    "papermill": {
     "duration": 0.181412,
     "end_time": "2020-11-16T03:02:58.505763",
     "exception": false,
     "start_time": "2020-11-16T03:02:58.324351",
     "status": "completed"
    },
    "tags": []
   },
   "source": [
    "# Evaluation\n",
    "In this classification problem, we evaluate model by looking at how many of their predictions are correct in which the threshold is 50%. This can be plotted into Confusion Matrix.\n",
    "\n",
    "Here is the confusion matrix from the ANN model after doing prediction to the dataset :"
   ]
  },
  {
   "cell_type": "code",
   "execution_count": 11,
   "metadata": {
    "execution": {
     "iopub.execute_input": "2020-11-16T03:02:58.877176Z",
     "iopub.status.busy": "2020-11-16T03:02:58.876381Z",
     "iopub.status.idle": "2020-11-16T03:02:59.164883Z",
     "shell.execute_reply": "2020-11-16T03:02:59.164108Z"
    },
    "papermill": {
     "duration": 0.478768,
     "end_time": "2020-11-16T03:02:59.165011",
     "exception": false,
     "start_time": "2020-11-16T03:02:58.686243",
     "status": "completed"
    },
    "tags": []
   },
   "outputs": [
    {
     "name": "stdout",
     "output_type": "stream",
     "text": [
      "Confusion Matrix : \n",
      "[[4254  449]\n",
      " [ 761  536]]\n",
      "\n",
      "True Positive (TP)  :  4254\n",
      "False Positive (FP) :  449\n",
      "True Negative (TN)  :  536\n",
      "False Negative (FN) :  761\n"
     ]
    }
   ],
   "source": [
    "y_pred = classifier.predict(X_test)\n",
    "y_pred = (y_pred > 0.5)\n",
    "conf_matr = confusion_matrix(y_test, y_pred)\n",
    "\n",
    "TP = conf_matr[0,0]; FP = conf_matr[0,1]; TN = conf_matr[1,1]; FN = conf_matr[1,0]\n",
    "print('Confusion Matrix : ')\n",
    "print(conf_matr)\n",
    "print()\n",
    "print('True Positive (TP)  : ',TP)\n",
    "print('False Positive (FP) : ',FP)\n",
    "print('True Negative (TN)  : ',TN)\n",
    "print('False Negative (FN) : ',FN)"
   ]
  },
  {
   "cell_type": "markdown",
   "metadata": {
    "papermill": {
     "duration": 0.180822,
     "end_time": "2020-11-16T03:02:59.528499",
     "exception": false,
     "start_time": "2020-11-16T03:02:59.347677",
     "status": "completed"
    },
    "tags": []
   },
   "source": [
    "in which \n",
    "- True Positive (TP) means the model predict customer will pay the credit and the prediction is correct.\n",
    "- False Positive (FP) means the model predict customer will will pay the credit and the prediction is incorrect.\n",
    "- True Negative (TN) means the model predict customer will not will pay the credit and the prediction is correct.\n",
    "- False Negative (FN) means the model predict customer will not will pay the credit and the prediction is incorrect.\n",
    "\n",
    "Based of the result above, then we can start doing evaluation using 3 different metrics: accuracy, recall, and precision."
   ]
  },
  {
   "cell_type": "markdown",
   "metadata": {
    "papermill": {
     "duration": 0.183098,
     "end_time": "2020-11-16T03:02:59.896826",
     "exception": false,
     "start_time": "2020-11-16T03:02:59.713728",
     "status": "completed"
    },
    "tags": []
   },
   "source": [
    "### Accuracy\n",
    "Accuracy means how many prediction is true compared to the total data. The metric will be calculated by following formula.\n",
    "\n",
    "$$Accuray = \\frac{TP+TN}{TP+TN+FP+FN}$$"
   ]
  },
  {
   "cell_type": "code",
   "execution_count": 12,
   "metadata": {
    "execution": {
     "iopub.execute_input": "2020-11-16T03:03:00.272501Z",
     "iopub.status.busy": "2020-11-16T03:03:00.271542Z",
     "iopub.status.idle": "2020-11-16T03:03:00.274942Z",
     "shell.execute_reply": "2020-11-16T03:03:00.275591Z"
    },
    "papermill": {
     "duration": 0.19452,
     "end_time": "2020-11-16T03:03:00.275769",
     "exception": false,
     "start_time": "2020-11-16T03:03:00.081249",
     "status": "completed"
    },
    "tags": []
   },
   "outputs": [
    {
     "name": "stdout",
     "output_type": "stream",
     "text": [
      "By this metric, only 80% of them are correctly predicted.\n"
     ]
    }
   ],
   "source": [
    "acc = (TP+TN)/(TP+TN+FP+FN)\n",
    "print('By this metric, only '+ str(round(acc*100)) + '% of them are correctly predicted.')"
   ]
  },
  {
   "cell_type": "markdown",
   "metadata": {
    "papermill": {
     "duration": 0.18395,
     "end_time": "2020-11-16T03:03:00.643394",
     "exception": false,
     "start_time": "2020-11-16T03:03:00.459444",
     "status": "completed"
    },
    "tags": []
   },
   "source": [
    "### Precision\n",
    "In this metric (precision), it only concern on how many positive prediction that are actually correct and this will be calculated by formula below.\n",
    " \n",
    "$$Precision = \\frac{TP}{TP+FP}$$"
   ]
  },
  {
   "cell_type": "code",
   "execution_count": 13,
   "metadata": {
    "execution": {
     "iopub.execute_input": "2020-11-16T03:03:01.019047Z",
     "iopub.status.busy": "2020-11-16T03:03:01.018126Z",
     "iopub.status.idle": "2020-11-16T03:03:01.022265Z",
     "shell.execute_reply": "2020-11-16T03:03:01.021569Z"
    },
    "papermill": {
     "duration": 0.195489,
     "end_time": "2020-11-16T03:03:01.022425",
     "exception": false,
     "start_time": "2020-11-16T03:03:00.826936",
     "status": "completed"
    },
    "tags": []
   },
   "outputs": [
    {
     "name": "stdout",
     "output_type": "stream",
     "text": [
      "From those classification result, by calculating the precision, there are 90% of them who are actually pay the credit.\n"
     ]
    }
   ],
   "source": [
    "pre = TP/(TP+FP)\n",
    "print('From those classification result, by calculating the precision, there are '+ str(round(pre*100)) + '% of them who are actually pay the credit.')"
   ]
  },
  {
   "cell_type": "markdown",
   "metadata": {
    "papermill": {
     "duration": 0.207874,
     "end_time": "2020-11-16T03:03:01.424511",
     "exception": false,
     "start_time": "2020-11-16T03:03:01.216637",
     "status": "completed"
    },
    "tags": []
   },
   "source": [
    "After reviewing the model performance by the accurary and precision metric, it seems that the created model included the hyper-parameter used  has not be able the reach the 95% accuray so that there are some possible actions which can be taken, such as :\n",
    "- tuning the hyper-parameter tp get the better performance before releasing the model into the real use\n",
    "- release the model while also developing a better model\n",
    "- trying another classfication model (such as decision-tree, Naive-bayes)"
   ]
  }
 ],
 "metadata": {
  "kernelspec": {
   "display_name": "tf",
   "language": "python",
   "name": "python3"
  },
  "language_info": {
   "codemirror_mode": {
    "name": "ipython",
    "version": 3
   },
   "file_extension": ".py",
   "mimetype": "text/x-python",
   "name": "python",
   "nbconvert_exporter": "python",
   "pygments_lexer": "ipython3",
   "version": "3.9.16"
  },
  "papermill": {
   "duration": 30.977732,
   "end_time": "2020-11-16T03:03:01.714927",
   "environment_variables": {},
   "exception": null,
   "input_path": "__notebook__.ipynb",
   "output_path": "__notebook__.ipynb",
   "parameters": {},
   "start_time": "2020-11-16T03:02:30.737195",
   "version": "2.1.0"
  },
  "vscode": {
   "interpreter": {
    "hash": "8f28ccdc1c8643b64cff4ec37a781aeae5d2507097f1d00b42b0e873c8696a82"
   }
  }
 },
 "nbformat": 4,
 "nbformat_minor": 4
}
